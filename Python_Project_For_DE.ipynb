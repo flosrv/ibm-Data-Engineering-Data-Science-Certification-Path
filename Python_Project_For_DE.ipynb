{
  "nbformat": 4,
  "nbformat_minor": 0,
  "metadata": {
    "colab": {
      "provenance": [],
      "authorship_tag": "ABX9TyPe0IgV1jITV4JqgWYx8m9f",
      "include_colab_link": true
    },
    "kernelspec": {
      "name": "python3",
      "display_name": "Python 3"
    },
    "language_info": {
      "name": "python"
    }
  },
  "cells": [
    {
      "cell_type": "markdown",
      "metadata": {
        "id": "view-in-github",
        "colab_type": "text"
      },
      "source": [
        "<a href=\"https://colab.research.google.com/github/flosrv/5-Days-Live-EDA-and-Feature-Engineering/blob/main/Python_Project_For_DE.ipynb\" target=\"_parent\"><img src=\"https://colab.research.google.com/assets/colab-badge.svg\" alt=\"Open In Colab\"/></a>"
      ]
    },
    {
      "cell_type": "code",
      "execution_count": 90,
      "metadata": {
        "id": "j-aPEKDXjSyx"
      },
      "outputs": [],
      "source": [
        "import requests\n",
        "import pandas as pd\n",
        "import sqlite3\n",
        "import datetime as dt\n",
        "from bs4 import BeautifulSoup\n",
        "from io import StringIO"
      ]
    },
    {
      "cell_type": "code",
      "source": [
        "# Constants\n",
        "URL = 'https://web.archive.org/web/20230908091635/https://en.wikipedia.org/wiki/List_of_largest_banks'\n",
        "EXCHANGE_RATE_URL = 'https://cf-courses-data.s3.us.cloud-object-storage.appdomain.cloud/IBMSkillsNetwork-PY0221EN-Coursera/labs/v2/exchange_rate.csv'\n",
        "OUTPUT_CSV_PATH = './Largest_banks_data.csv'\n",
        "DB_NAME = 'Banks.db'\n",
        "TABLE_NAME = 'Largest_banks'"
      ],
      "metadata": {
        "id": "KvASFDtMjX-I"
      },
      "execution_count": 91,
      "outputs": []
    },
    {
      "cell_type": "code",
      "source": [
        "# Task 1: Logging function\n",
        "LOG_FILE = 'code_log.txt'\n",
        "def log_progress(message):\n",
        "    timestamp = dt.datetime.now().strftime('%Y-%m-%d %H:%M:%S')\n",
        "    log_message = f\"{timestamp} - {message}\"\n",
        "    with open(LOG_FILE, 'a') as log_file:\n",
        "        log_file.write(log_message + '\\n')\n",
        "    print(log_message)"
      ],
      "metadata": {
        "id": "CwflY97YjcM0"
      },
      "execution_count": 92,
      "outputs": []
    },
    {
      "cell_type": "code",
      "source": [
        "# Task 2: Extract exchange rates CSV and create SQLite table\n",
        "def extract_exchange_rates():\n",
        "    log_progress(\"Starting exchange rate extraction...\")\n",
        "    exchange_rate_df = pd.read_csv(EXCHANGE_RATE_URL)\n",
        "    conn = sqlite3.connect(DB_NAME)\n",
        "    try:\n",
        "        exchange_rate_df.to_sql('Exchange_Rates', conn, if_exists='fail', index=False)\n",
        "    except ValueError:\n",
        "        log_progress(\"Exchange Rates table already exists, skipping creation.\")\n",
        "    conn.close()\n",
        "    log_progress(\"Exchange rates loaded into database.\")"
      ],
      "metadata": {
        "id": "A651Ft64jjYE"
      },
      "execution_count": 93,
      "outputs": []
    },
    {
      "cell_type": "code",
      "source": [
        "# Task 3: Extraction of data\n",
        "def extract():\n",
        "    log_progress(\"Starting extraction process...\")\n",
        "    response = requests.get(URL, timeout=10)\n",
        "    soup = BeautifulSoup(response.text, 'html.parser')\n",
        "    table = soup.find('table', {'class': 'wikitable'})\n",
        "    html = str(table)\n",
        "    print(html)\n",
        "    table_data = StringIO(html)\n",
        "    df = pd.read_html(table_data)[0]\n",
        "    df.columns = df.columns.str.strip()\n",
        "    df = df[['Bank name', 'Market cap (US$ billion)']]\n",
        "    df.columns = ['Name', 'MC_USD_Billion']\n",
        "    log_progress(\"Extraction complete.\")\n",
        "    return df"
      ],
      "metadata": {
        "id": "44EMtEsujmhk"
      },
      "execution_count": 94,
      "outputs": []
    },
    {
      "cell_type": "code",
      "source": [
        "# Task 4: Transformation of data\n",
        "def transform(df):\n",
        "    log_progress(\"Starting transformation process...\")\n",
        "    conn = sqlite3.connect(DB_NAME)\n",
        "    rates_df = pd.read_sql_query(\"SELECT * FROM Exchange_Rates\", conn)\n",
        "    conn.close()\n",
        "\n",
        "    # Extract exchange rates from the database\n",
        "    rates = rates_df.set_index('Currency')['Rate'].to_dict()\n",
        "\n",
        "    # Calculate market caps in different currencies\n",
        "    df['MC_GBP_Billion'] = (df['MC_USD_Billion'] * rates['GBP']).round(2)\n",
        "    df['MC_EUR_Billion'] = (df['MC_USD_Billion'] * rates['EUR']).round(2)\n",
        "    df['MC_INR_Billion'] = (df['MC_USD_Billion'] * rates['INR']).round(2)\n",
        "\n",
        "    log_progress(\"Transformation complete.\")\n",
        "    return df"
      ],
      "metadata": {
        "id": "TOOdXNmJjtW0"
      },
      "execution_count": 95,
      "outputs": []
    },
    {
      "cell_type": "code",
      "source": [
        "# Task 5: Loading to CSV\n",
        "def load_to_csv(df):\n",
        "    log_progress(\"Starting CSV load process...\")\n",
        "    df.to_csv(OUTPUT_CSV_PATH, index=False)\n",
        "    log_progress(f\"CSV file saved at {OUTPUT_CSV_PATH}.\")\n",
        "\n",
        "# Task 6: Loading to Database\n",
        "def load_to_db(df):\n",
        "    log_progress(\"Starting database load process...\")\n",
        "    conn = sqlite3.connect(DB_NAME)\n",
        "    cursor = conn.cursor()\n",
        "    cursor.execute(f'''\n",
        "        CREATE TABLE IF NOT EXISTS {TABLE_NAME} (\n",
        "            Name TEXT,\n",
        "            MC_USD_Billion REAL,\n",
        "            MC_GBP_Billion REAL,\n",
        "            MC_EUR_Billion REAL,\n",
        "            MC_INR_Billion REAL\n",
        "        )\n",
        "    ''')\n",
        "    df.to_sql(TABLE_NAME, conn, if_exists='replace', index=False)\n",
        "    log_progress(f\"Data loaded into database table {TABLE_NAME}.\")\n",
        "    conn.commit()\n",
        "    conn.close()"
      ],
      "metadata": {
        "id": "6QvPzOEVjwdk"
      },
      "execution_count": 96,
      "outputs": []
    },
    {
      "cell_type": "code",
      "source": [
        "# Task 7: Function to run queries on the database\n",
        "def run_queries():\n",
        "    log_progress(\"Starting query execution...\")\n",
        "    conn = sqlite3.connect(DB_NAME)\n",
        "    cursor = conn.cursor()\n",
        "    query = f\"SELECT AVG(MC_GBP_Billion) FROM {TABLE_NAME} ;\"\n",
        "    print(f\"Executing query: {query}\")\n",
        "    cursor.execute(query)\n",
        "    results = cursor.fetchall()\n",
        "    print(results)\n",
        "    log_progress(results)\n",
        "    log_progress(\"Query execution complete.\")\n",
        "    conn.close()"
      ],
      "metadata": {
        "id": "3oMFg-VfjzP0"
      },
      "execution_count": 97,
      "outputs": []
    },
    {
      "cell_type": "code",
      "source": [
        "# Task 8: Verify log entries\n",
        "def verify_log_entries():\n",
        "    log_progress(\"Verifying log entries...\")\n",
        "    try:\n",
        "        with open(LOG_FILE, 'r') as log_file:\n",
        "            log_contents = log_file.read()\n",
        "            if \"Starting extraction process...\" not in log_contents or \\\n",
        "               \"Starting transformation process...\" not in log_contents or \\\n",
        "               \"Starting CSV load process...\" not in log_contents or \\\n",
        "               \"Starting database load process...\" not in log_contents or \\\n",
        "               \"Starting query execution...\" not in log_contents:\n",
        "                raise Exception(\"Log entries missing!\")\n",
        "            print(\"Log entries verified.\")\n",
        "            log_progress(\"Log entries verified.\")\n",
        "    except Exception as e:\n",
        "        print(f\"Error: {e}\")\n",
        "        log_progress(f\"Error: {e}\")"
      ],
      "metadata": {
        "id": "EM8vPMrxj1ZE"
      },
      "execution_count": 98,
      "outputs": []
    },
    {
      "cell_type": "code",
      "source": [
        "# Main execution flow\n",
        "def main():\n",
        "    extract_exchange_rates() # First, load exchange rates to the database\n",
        "    df = extract()\n",
        "    df = transform(df)\n",
        "    load_to_csv(df)\n",
        "    load_to_db(df)\n",
        "    run_queries()\n",
        "    verify_log_entries()\n",
        "\n",
        "# Run the main function\n",
        "if __name__ == '__main__':\n",
        "    main()"
      ],
      "metadata": {
        "colab": {
          "base_uri": "https://localhost:8080/"
        },
        "id": "P516Z8E4qAJp",
        "outputId": "2051d920-c9fa-4f38-c6a3-de12738d5007"
      },
      "execution_count": 99,
      "outputs": [
        {
          "output_type": "stream",
          "name": "stdout",
          "text": [
            "2024-12-23 13:17:19 - Starting exchange rate extraction...\n",
            "2024-12-23 13:17:20 - Exchange Rates table already exists, skipping creation.\n",
            "2024-12-23 13:17:20 - Exchange rates loaded into database.\n",
            "2024-12-23 13:17:20 - Starting extraction process...\n",
            "<table class=\"wikitable sortable mw-collapsible\">\n",
            "<tbody><tr>\n",
            "<th data-sort-type=\"number\">Rank\n",
            "</th>\n",
            "<th>Bank name\n",
            "</th>\n",
            "<th>Market cap<br/>(US$ billion)\n",
            "</th></tr>\n",
            "<tr>\n",
            "<td>1\n",
            "</td>\n",
            "<td><span class=\"flagicon\"><span class=\"mw-image-border\" typeof=\"mw:File\"><a href=\"/web/20230908091635/https://en.wikipedia.org/wiki/United_States\" title=\"United States\"><img alt=\"United States\" class=\"mw-file-element\" data-file-height=\"650\" data-file-width=\"1235\" decoding=\"async\" height=\"12\" src=\"//web.archive.org/web/20230908091635im_/https://upload.wikimedia.org/wikipedia/en/thumb/a/a4/Flag_of_the_United_States.svg/23px-Flag_of_the_United_States.svg.png\" srcset=\"//web.archive.org/web/20230908091635im_/https://upload.wikimedia.org/wikipedia/en/thumb/a/a4/Flag_of_the_United_States.svg/35px-Flag_of_the_United_States.svg.png 1.5x, //web.archive.org/web/20230908091635im_/https://upload.wikimedia.org/wikipedia/en/thumb/a/a4/Flag_of_the_United_States.svg/46px-Flag_of_the_United_States.svg.png 2x\" width=\"23\"/></a></span></span> <a href=\"/web/20230908091635/https://en.wikipedia.org/wiki/JPMorgan_Chase\" title=\"JPMorgan Chase\">JPMorgan Chase</a>\n",
            "</td>\n",
            "<td>432.92\n",
            "</td></tr>\n",
            "<tr>\n",
            "<td>2\n",
            "</td>\n",
            "<td><span class=\"flagicon\"><span class=\"mw-image-border\" typeof=\"mw:File\"><a href=\"/web/20230908091635/https://en.wikipedia.org/wiki/United_States\" title=\"United States\"><img alt=\"United States\" class=\"mw-file-element\" data-file-height=\"650\" data-file-width=\"1235\" decoding=\"async\" height=\"12\" src=\"//web.archive.org/web/20230908091635im_/https://upload.wikimedia.org/wikipedia/en/thumb/a/a4/Flag_of_the_United_States.svg/23px-Flag_of_the_United_States.svg.png\" srcset=\"//web.archive.org/web/20230908091635im_/https://upload.wikimedia.org/wikipedia/en/thumb/a/a4/Flag_of_the_United_States.svg/35px-Flag_of_the_United_States.svg.png 1.5x, //web.archive.org/web/20230908091635im_/https://upload.wikimedia.org/wikipedia/en/thumb/a/a4/Flag_of_the_United_States.svg/46px-Flag_of_the_United_States.svg.png 2x\" width=\"23\"/></a></span></span> <a href=\"/web/20230908091635/https://en.wikipedia.org/wiki/Bank_of_America\" title=\"Bank of America\">Bank of America</a>\n",
            "</td>\n",
            "<td>231.52\n",
            "</td></tr>\n",
            "<tr>\n",
            "<td>3\n",
            "</td>\n",
            "<td><span class=\"flagicon\"><span class=\"mw-image-border\" typeof=\"mw:File\"><a href=\"/web/20230908091635/https://en.wikipedia.org/wiki/China\" title=\"China\"><img alt=\"China\" class=\"mw-file-element\" data-file-height=\"600\" data-file-width=\"900\" decoding=\"async\" height=\"15\" src=\"//web.archive.org/web/20230908091635im_/https://upload.wikimedia.org/wikipedia/commons/thumb/f/fa/Flag_of_the_People%27s_Republic_of_China.svg/23px-Flag_of_the_People%27s_Republic_of_China.svg.png\" srcset=\"//web.archive.org/web/20230908091635im_/https://upload.wikimedia.org/wikipedia/commons/thumb/f/fa/Flag_of_the_People%27s_Republic_of_China.svg/35px-Flag_of_the_People%27s_Republic_of_China.svg.png 1.5x, //web.archive.org/web/20230908091635im_/https://upload.wikimedia.org/wikipedia/commons/thumb/f/fa/Flag_of_the_People%27s_Republic_of_China.svg/45px-Flag_of_the_People%27s_Republic_of_China.svg.png 2x\" width=\"23\"/></a></span></span> <a href=\"/web/20230908091635/https://en.wikipedia.org/wiki/Industrial_and_Commercial_Bank_of_China\" title=\"Industrial and Commercial Bank of China\">Industrial and Commercial Bank of China</a>\n",
            "</td>\n",
            "<td>194.56\n",
            "</td></tr>\n",
            "<tr>\n",
            "<td>4\n",
            "</td>\n",
            "<td><span class=\"flagicon\"><span class=\"mw-image-border\" typeof=\"mw:File\"><a href=\"/web/20230908091635/https://en.wikipedia.org/wiki/China\" title=\"China\"><img alt=\"China\" class=\"mw-file-element\" data-file-height=\"600\" data-file-width=\"900\" decoding=\"async\" height=\"15\" src=\"//web.archive.org/web/20230908091635im_/https://upload.wikimedia.org/wikipedia/commons/thumb/f/fa/Flag_of_the_People%27s_Republic_of_China.svg/23px-Flag_of_the_People%27s_Republic_of_China.svg.png\" srcset=\"//web.archive.org/web/20230908091635im_/https://upload.wikimedia.org/wikipedia/commons/thumb/f/fa/Flag_of_the_People%27s_Republic_of_China.svg/35px-Flag_of_the_People%27s_Republic_of_China.svg.png 1.5x, //web.archive.org/web/20230908091635im_/https://upload.wikimedia.org/wikipedia/commons/thumb/f/fa/Flag_of_the_People%27s_Republic_of_China.svg/45px-Flag_of_the_People%27s_Republic_of_China.svg.png 2x\" width=\"23\"/></a></span></span> <a href=\"/web/20230908091635/https://en.wikipedia.org/wiki/Agricultural_Bank_of_China\" title=\"Agricultural Bank of China\">Agricultural Bank of China</a>\n",
            "</td>\n",
            "<td>160.68\n",
            "</td></tr>\n",
            "<tr>\n",
            "<td>5\n",
            "</td>\n",
            "<td><span class=\"flagicon\"><span class=\"mw-image-border\" typeof=\"mw:File\"><a href=\"/web/20230908091635/https://en.wikipedia.org/wiki/India\" title=\"India\"><img alt=\"India\" class=\"mw-file-element\" data-file-height=\"600\" data-file-width=\"900\" decoding=\"async\" height=\"15\" src=\"//web.archive.org/web/20230908091635im_/https://upload.wikimedia.org/wikipedia/en/thumb/4/41/Flag_of_India.svg/23px-Flag_of_India.svg.png\" srcset=\"//web.archive.org/web/20230908091635im_/https://upload.wikimedia.org/wikipedia/en/thumb/4/41/Flag_of_India.svg/35px-Flag_of_India.svg.png 1.5x, //web.archive.org/web/20230908091635im_/https://upload.wikimedia.org/wikipedia/en/thumb/4/41/Flag_of_India.svg/45px-Flag_of_India.svg.png 2x\" width=\"23\"/></a></span></span> <a href=\"/web/20230908091635/https://en.wikipedia.org/wiki/HDFC_Bank\" title=\"HDFC Bank\">HDFC Bank</a>\n",
            "</td>\n",
            "<td>157.91\n",
            "</td></tr>\n",
            "<tr>\n",
            "<td>6\n",
            "</td>\n",
            "<td><span class=\"flagicon\"><span class=\"mw-image-border\" typeof=\"mw:File\"><a href=\"/web/20230908091635/https://en.wikipedia.org/wiki/United_States\" title=\"United States\"><img alt=\"United States\" class=\"mw-file-element\" data-file-height=\"650\" data-file-width=\"1235\" decoding=\"async\" height=\"12\" src=\"//web.archive.org/web/20230908091635im_/https://upload.wikimedia.org/wikipedia/en/thumb/a/a4/Flag_of_the_United_States.svg/23px-Flag_of_the_United_States.svg.png\" srcset=\"//web.archive.org/web/20230908091635im_/https://upload.wikimedia.org/wikipedia/en/thumb/a/a4/Flag_of_the_United_States.svg/35px-Flag_of_the_United_States.svg.png 1.5x, //web.archive.org/web/20230908091635im_/https://upload.wikimedia.org/wikipedia/en/thumb/a/a4/Flag_of_the_United_States.svg/46px-Flag_of_the_United_States.svg.png 2x\" width=\"23\"/></a></span></span> <a href=\"/web/20230908091635/https://en.wikipedia.org/wiki/Wells_Fargo\" title=\"Wells Fargo\">Wells Fargo</a>\n",
            "</td>\n",
            "<td>155.87\n",
            "</td></tr>\n",
            "<tr>\n",
            "<td>7\n",
            "</td>\n",
            "<td><span class=\"flagicon\"><span class=\"mw-image-border\" typeof=\"mw:File\"><a href=\"/web/20230908091635/https://en.wikipedia.org/wiki/United_Kingdom\" title=\"United Kingdom\"><img alt=\"United Kingdom\" class=\"mw-file-element\" data-file-height=\"600\" data-file-width=\"1200\" decoding=\"async\" height=\"12\" src=\"//web.archive.org/web/20230908091635im_/https://upload.wikimedia.org/wikipedia/en/thumb/a/ae/Flag_of_the_United_Kingdom.svg/23px-Flag_of_the_United_Kingdom.svg.png\" srcset=\"//web.archive.org/web/20230908091635im_/https://upload.wikimedia.org/wikipedia/en/thumb/a/ae/Flag_of_the_United_Kingdom.svg/35px-Flag_of_the_United_Kingdom.svg.png 1.5x, //web.archive.org/web/20230908091635im_/https://upload.wikimedia.org/wikipedia/en/thumb/a/ae/Flag_of_the_United_Kingdom.svg/46px-Flag_of_the_United_Kingdom.svg.png 2x\" width=\"23\"/></a></span></span> <a href=\"/web/20230908091635/https://en.wikipedia.org/wiki/HSBC\" title=\"HSBC\">HSBC Holdings PLC</a>\n",
            "</td>\n",
            "<td>148.90\n",
            "</td></tr>\n",
            "<tr>\n",
            "<td>8\n",
            "</td>\n",
            "<td><span class=\"flagicon\"><span class=\"mw-image-border\" typeof=\"mw:File\"><a href=\"/web/20230908091635/https://en.wikipedia.org/wiki/United_States\" title=\"United States\"><img alt=\"United States\" class=\"mw-file-element\" data-file-height=\"650\" data-file-width=\"1235\" decoding=\"async\" height=\"12\" src=\"//web.archive.org/web/20230908091635im_/https://upload.wikimedia.org/wikipedia/en/thumb/a/a4/Flag_of_the_United_States.svg/23px-Flag_of_the_United_States.svg.png\" srcset=\"//web.archive.org/web/20230908091635im_/https://upload.wikimedia.org/wikipedia/en/thumb/a/a4/Flag_of_the_United_States.svg/35px-Flag_of_the_United_States.svg.png 1.5x, //web.archive.org/web/20230908091635im_/https://upload.wikimedia.org/wikipedia/en/thumb/a/a4/Flag_of_the_United_States.svg/46px-Flag_of_the_United_States.svg.png 2x\" width=\"23\"/></a></span></span> <a href=\"/web/20230908091635/https://en.wikipedia.org/wiki/Morgan_Stanley\" title=\"Morgan Stanley\">Morgan Stanley</a>\n",
            "</td>\n",
            "<td>140.83\n",
            "</td></tr>\n",
            "<tr>\n",
            "<td>9\n",
            "</td>\n",
            "<td><span class=\"flagicon\"><span class=\"mw-image-border\" typeof=\"mw:File\"><a href=\"/web/20230908091635/https://en.wikipedia.org/wiki/China\" title=\"China\"><img alt=\"China\" class=\"mw-file-element\" data-file-height=\"600\" data-file-width=\"900\" decoding=\"async\" height=\"15\" src=\"//web.archive.org/web/20230908091635im_/https://upload.wikimedia.org/wikipedia/commons/thumb/f/fa/Flag_of_the_People%27s_Republic_of_China.svg/23px-Flag_of_the_People%27s_Republic_of_China.svg.png\" srcset=\"//web.archive.org/web/20230908091635im_/https://upload.wikimedia.org/wikipedia/commons/thumb/f/fa/Flag_of_the_People%27s_Republic_of_China.svg/35px-Flag_of_the_People%27s_Republic_of_China.svg.png 1.5x, //web.archive.org/web/20230908091635im_/https://upload.wikimedia.org/wikipedia/commons/thumb/f/fa/Flag_of_the_People%27s_Republic_of_China.svg/45px-Flag_of_the_People%27s_Republic_of_China.svg.png 2x\" width=\"23\"/></a></span></span> <a href=\"/web/20230908091635/https://en.wikipedia.org/wiki/China_Construction_Bank\" title=\"China Construction Bank\">China Construction Bank</a>\n",
            "</td>\n",
            "<td>139.82\n",
            "</td></tr>\n",
            "<tr>\n",
            "<td>10\n",
            "</td>\n",
            "<td><span class=\"flagicon\"><span class=\"mw-image-border\" typeof=\"mw:File\"><a href=\"/web/20230908091635/https://en.wikipedia.org/wiki/China\" title=\"China\"><img alt=\"China\" class=\"mw-file-element\" data-file-height=\"600\" data-file-width=\"900\" decoding=\"async\" height=\"15\" src=\"//web.archive.org/web/20230908091635im_/https://upload.wikimedia.org/wikipedia/commons/thumb/f/fa/Flag_of_the_People%27s_Republic_of_China.svg/23px-Flag_of_the_People%27s_Republic_of_China.svg.png\" srcset=\"//web.archive.org/web/20230908091635im_/https://upload.wikimedia.org/wikipedia/commons/thumb/f/fa/Flag_of_the_People%27s_Republic_of_China.svg/35px-Flag_of_the_People%27s_Republic_of_China.svg.png 1.5x, //web.archive.org/web/20230908091635im_/https://upload.wikimedia.org/wikipedia/commons/thumb/f/fa/Flag_of_the_People%27s_Republic_of_China.svg/45px-Flag_of_the_People%27s_Republic_of_China.svg.png 2x\" width=\"23\"/></a></span></span> <a href=\"/web/20230908091635/https://en.wikipedia.org/wiki/Bank_of_China\" title=\"Bank of China\">Bank of China</a>\n",
            "</td>\n",
            "<td>136.81\n",
            "</td></tr></tbody></table>\n",
            "2024-12-23 13:17:21 - Extraction complete.\n",
            "2024-12-23 13:17:21 - Starting transformation process...\n",
            "2024-12-23 13:17:21 - Transformation complete.\n",
            "2024-12-23 13:17:21 - Starting CSV load process...\n",
            "2024-12-23 13:17:21 - CSV file saved at ./Largest_banks_data.csv.\n",
            "2024-12-23 13:17:21 - Starting database load process...\n",
            "2024-12-23 13:17:21 - Data loaded into database table Largest_banks.\n",
            "2024-12-23 13:17:21 - Starting query execution...\n",
            "Executing query: SELECT AVG(MC_GBP_Billion) FROM Largest_banks ;\n",
            "[(151.98700000000002,)]\n",
            "2024-12-23 13:17:21 - [(151.98700000000002,)]\n",
            "2024-12-23 13:17:21 - Query execution complete.\n",
            "2024-12-23 13:17:21 - Verifying log entries...\n",
            "Log entries verified.\n",
            "2024-12-23 13:17:22 - Log entries verified.\n"
          ]
        }
      ]
    },
    {
      "cell_type": "code",
      "source": [],
      "metadata": {
        "id": "FvsqOCW9qIsr"
      },
      "execution_count": 99,
      "outputs": []
    }
  ]
}